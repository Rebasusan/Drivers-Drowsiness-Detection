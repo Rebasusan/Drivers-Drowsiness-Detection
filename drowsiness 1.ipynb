{
 "cells": [
  {
   "cell_type": "markdown",
   "metadata": {},
   "source": [
    "## Importing packages"
   ]
  },
  {
   "cell_type": "code",
   "execution_count": 2,
   "metadata": {},
   "outputs": [
    {
     "name": "stdout",
     "output_type": "stream",
     "text": [
      "2.5.0\n"
     ]
    }
   ],
   "source": [
    "import tensorflow as tf\n",
    "from tensorflow import keras\n",
    "from tensorflow.keras.models import Sequential\n",
    "from tensorflow.keras.layers import Dense, Conv2D, MaxPooling2D, Flatten\n",
    "import matplotlib.pyplot as plt\n",
    "from sklearn.model_selection import train_test_split\n",
    "from tensorflow.keras.preprocessing.image import ImageDataGenerator\n",
    "import pandas as pd\n",
    "import numpy as np\n",
    "import os\n",
    "import cv2\n",
    "\n",
    "print(tf.__version__)"
   ]
  },
  {
   "cell_type": "code",
   "execution_count": 3,
   "metadata": {},
   "outputs": [],
   "source": [
    "os.chdir(r'C:\\Users\\User\\OneDrive\\Desktop\\proj_mvs')            # changing working directory"
   ]
  },
  {
   "cell_type": "code",
   "execution_count": 4,
   "metadata": {},
   "outputs": [
    {
     "data": {
      "text/plain": [
       "'C:\\\\Users\\\\User\\\\OneDrive\\\\Desktop\\\\proj_mvs'"
      ]
     },
     "execution_count": 4,
     "metadata": {},
     "output_type": "execute_result"
    }
   ],
   "source": [
    "os.getcwd()"
   ]
  },
  {
   "cell_type": "markdown",
   "metadata": {},
   "source": [
    "### Creating training data\n",
    "#### (combining images in two folders together)"
   ]
  },
  {
   "cell_type": "code",
   "execution_count": 5,
   "metadata": {},
   "outputs": [],
   "source": [
    "img_size=224\n",
    "training_data = []\n",
    "def create_training_data(class1,class2):\n",
    "    Classes=[class1 ,class2 ]\n",
    "    for category in Classes:\n",
    "        path = os.path.join('train/', category)\n",
    "        class_num = Classes.index(category) #0,1(index)\n",
    "        for img in os.listdir(path):\n",
    "            img_array= cv2.imread(os.path.join(path,img),cv2.IMREAD_GRAYSCALE)\n",
    "            backtorgb = cv2.cvtColor(img_array,cv2.COLOR_GRAY2RGB)\n",
    "            new_array= cv2.resize(backtorgb,(img_size,img_size))\n",
    "            training_data.append([new_array,class_num])\n",
    "    \n",
    "    print(len(training_data))                 "
   ]
  },
  {
   "cell_type": "code",
   "execution_count": 6,
   "metadata": {},
   "outputs": [
    {
     "name": "stdout",
     "output_type": "stream",
     "text": [
      "2125\n"
     ]
    }
   ],
   "source": [
    "create_training_data('Open1','Closed1')"
   ]
  },
  {
   "cell_type": "markdown",
   "metadata": {},
   "source": [
    "### mixing the images in training data"
   ]
  },
  {
   "cell_type": "code",
   "execution_count": 7,
   "metadata": {},
   "outputs": [],
   "source": [
    "import random\n",
    "\n",
    "random.shuffle(training_data)"
   ]
  },
  {
   "cell_type": "markdown",
   "metadata": {},
   "source": [
    "### creating a duplicate training data, shuffling it and converting it to a dataframe"
   ]
  },
  {
   "cell_type": "code",
   "execution_count": 8,
   "metadata": {},
   "outputs": [],
   "source": [
    "td = []\n",
    "def create_td(class1,class2):\n",
    "    Classes=[class1 ,class2 ]\n",
    "    for category in Classes:\n",
    "        path = os.path.join('train/', category)\n",
    "        class_num = Classes.index(category) #0,1(index)\n",
    "        for img in os.listdir(path):\n",
    "            td.append([img,class_num])\n",
    "    \n",
    "    print(len(td))  "
   ]
  },
  {
   "cell_type": "code",
   "execution_count": 9,
   "metadata": {
    "scrolled": true
   },
   "outputs": [
    {
     "name": "stdout",
     "output_type": "stream",
     "text": [
      "2125\n"
     ]
    }
   ],
   "source": [
    "create_td('Open1','Closed1')"
   ]
  },
  {
   "cell_type": "code",
   "execution_count": 10,
   "metadata": {},
   "outputs": [],
   "source": [
    "random.shuffle(td)"
   ]
  },
  {
   "cell_type": "code",
   "execution_count": 11,
   "metadata": {
    "scrolled": true
   },
   "outputs": [
    {
     "data": {
      "text/html": [
       "<div>\n",
       "<style scoped>\n",
       "    .dataframe tbody tr th:only-of-type {\n",
       "        vertical-align: middle;\n",
       "    }\n",
       "\n",
       "    .dataframe tbody tr th {\n",
       "        vertical-align: top;\n",
       "    }\n",
       "\n",
       "    .dataframe thead th {\n",
       "        text-align: right;\n",
       "    }\n",
       "</style>\n",
       "<table border=\"1\" class=\"dataframe\">\n",
       "  <thead>\n",
       "    <tr style=\"text-align: right;\">\n",
       "      <th></th>\n",
       "      <th>image</th>\n",
       "      <th>y</th>\n",
       "    </tr>\n",
       "  </thead>\n",
       "  <tbody>\n",
       "    <tr>\n",
       "      <th>0</th>\n",
       "      <td>s0001_00537_0_0_0_0_1_01.png</td>\n",
       "      <td>1</td>\n",
       "    </tr>\n",
       "    <tr>\n",
       "      <th>1</th>\n",
       "      <td>s0001_01416_0_1_0_2_0_01.png</td>\n",
       "      <td>1</td>\n",
       "    </tr>\n",
       "    <tr>\n",
       "      <th>2</th>\n",
       "      <td>s0001_01236_0_1_0_0_0_01.png</td>\n",
       "      <td>1</td>\n",
       "    </tr>\n",
       "    <tr>\n",
       "      <th>3</th>\n",
       "      <td>s0001_01528_0_1_0_0_0_01.png</td>\n",
       "      <td>1</td>\n",
       "    </tr>\n",
       "    <tr>\n",
       "      <th>4</th>\n",
       "      <td>s0001_02669_0_1_1_2_0_01.png</td>\n",
       "      <td>0</td>\n",
       "    </tr>\n",
       "  </tbody>\n",
       "</table>\n",
       "</div>"
      ],
      "text/plain": [
       "                          image  y\n",
       "0  s0001_00537_0_0_0_0_1_01.png  1\n",
       "1  s0001_01416_0_1_0_2_0_01.png  1\n",
       "2  s0001_01236_0_1_0_0_0_01.png  1\n",
       "3  s0001_01528_0_1_0_0_0_01.png  1\n",
       "4  s0001_02669_0_1_1_2_0_01.png  0"
      ]
     },
     "execution_count": 11,
     "metadata": {},
     "output_type": "execute_result"
    }
   ],
   "source": [
    "df = pd.DataFrame(td,\n",
    "                 columns=['image','y'])\n",
    "df.head()"
   ]
  },
  {
   "cell_type": "code",
   "execution_count": 12,
   "metadata": {},
   "outputs": [],
   "source": [
    "df.y = df.y.astype(str)"
   ]
  },
  {
   "cell_type": "code",
   "execution_count": 13,
   "metadata": {
    "scrolled": true
   },
   "outputs": [
    {
     "data": {
      "text/html": [
       "<div>\n",
       "<style scoped>\n",
       "    .dataframe tbody tr th:only-of-type {\n",
       "        vertical-align: middle;\n",
       "    }\n",
       "\n",
       "    .dataframe tbody tr th {\n",
       "        vertical-align: top;\n",
       "    }\n",
       "\n",
       "    .dataframe thead th {\n",
       "        text-align: right;\n",
       "    }\n",
       "</style>\n",
       "<table border=\"1\" class=\"dataframe\">\n",
       "  <thead>\n",
       "    <tr style=\"text-align: right;\">\n",
       "      <th></th>\n",
       "      <th>image</th>\n",
       "      <th>y</th>\n",
       "    </tr>\n",
       "  </thead>\n",
       "  <tbody>\n",
       "    <tr>\n",
       "      <th>0</th>\n",
       "      <td>s0001_00537_0_0_0_0_1_01.png</td>\n",
       "      <td>1</td>\n",
       "    </tr>\n",
       "    <tr>\n",
       "      <th>1</th>\n",
       "      <td>s0001_01416_0_1_0_2_0_01.png</td>\n",
       "      <td>1</td>\n",
       "    </tr>\n",
       "    <tr>\n",
       "      <th>2</th>\n",
       "      <td>s0001_01236_0_1_0_0_0_01.png</td>\n",
       "      <td>1</td>\n",
       "    </tr>\n",
       "    <tr>\n",
       "      <th>3</th>\n",
       "      <td>s0001_01528_0_1_0_0_0_01.png</td>\n",
       "      <td>1</td>\n",
       "    </tr>\n",
       "    <tr>\n",
       "      <th>4</th>\n",
       "      <td>s0001_02669_0_1_1_2_0_01.png</td>\n",
       "      <td>0</td>\n",
       "    </tr>\n",
       "  </tbody>\n",
       "</table>\n",
       "</div>"
      ],
      "text/plain": [
       "                          image  y\n",
       "0  s0001_00537_0_0_0_0_1_01.png  1\n",
       "1  s0001_01416_0_1_0_2_0_01.png  1\n",
       "2  s0001_01236_0_1_0_0_0_01.png  1\n",
       "3  s0001_01528_0_1_0_0_0_01.png  1\n",
       "4  s0001_02669_0_1_1_2_0_01.png  0"
      ]
     },
     "execution_count": 13,
     "metadata": {},
     "output_type": "execute_result"
    }
   ],
   "source": [
    "df.head()"
   ]
  },
  {
   "cell_type": "markdown",
   "metadata": {},
   "source": [
    "### creating train and validation set and converting them ito dataframe"
   ]
  },
  {
   "cell_type": "code",
   "execution_count": 14,
   "metadata": {},
   "outputs": [],
   "source": [
    "training_set, validation_set = train_test_split(td, random_state = 0, test_size = 0.2)"
   ]
  },
  {
   "cell_type": "code",
   "execution_count": 15,
   "metadata": {},
   "outputs": [],
   "source": [
    "tr_df = pd.DataFrame(training_set,\n",
    "                    columns=['image','y']) # training list into dataframe"
   ]
  },
  {
   "cell_type": "code",
   "execution_count": 16,
   "metadata": {},
   "outputs": [
    {
     "data": {
      "text/html": [
       "<div>\n",
       "<style scoped>\n",
       "    .dataframe tbody tr th:only-of-type {\n",
       "        vertical-align: middle;\n",
       "    }\n",
       "\n",
       "    .dataframe tbody tr th {\n",
       "        vertical-align: top;\n",
       "    }\n",
       "\n",
       "    .dataframe thead th {\n",
       "        text-align: right;\n",
       "    }\n",
       "</style>\n",
       "<table border=\"1\" class=\"dataframe\">\n",
       "  <thead>\n",
       "    <tr style=\"text-align: right;\">\n",
       "      <th></th>\n",
       "      <th>image</th>\n",
       "      <th>y</th>\n",
       "    </tr>\n",
       "  </thead>\n",
       "  <tbody>\n",
       "    <tr>\n",
       "      <th>0</th>\n",
       "      <td>s0001_01990_0_0_1_0_0_01.png</td>\n",
       "      <td>0</td>\n",
       "    </tr>\n",
       "    <tr>\n",
       "      <th>1</th>\n",
       "      <td>s0001_02039_0_0_1_0_0_01.png</td>\n",
       "      <td>0</td>\n",
       "    </tr>\n",
       "    <tr>\n",
       "      <th>2</th>\n",
       "      <td>s0001_00944_0_1_0_2_0_01.png</td>\n",
       "      <td>1</td>\n",
       "    </tr>\n",
       "    <tr>\n",
       "      <th>3</th>\n",
       "      <td>s0001_02461_0_0_1_0_0_01.png</td>\n",
       "      <td>0</td>\n",
       "    </tr>\n",
       "    <tr>\n",
       "      <th>4</th>\n",
       "      <td>s0001_01964_0_0_1_0_0_01.png</td>\n",
       "      <td>0</td>\n",
       "    </tr>\n",
       "  </tbody>\n",
       "</table>\n",
       "</div>"
      ],
      "text/plain": [
       "                          image  y\n",
       "0  s0001_01990_0_0_1_0_0_01.png  0\n",
       "1  s0001_02039_0_0_1_0_0_01.png  0\n",
       "2  s0001_00944_0_1_0_2_0_01.png  1\n",
       "3  s0001_02461_0_0_1_0_0_01.png  0\n",
       "4  s0001_01964_0_0_1_0_0_01.png  0"
      ]
     },
     "execution_count": 16,
     "metadata": {},
     "output_type": "execute_result"
    }
   ],
   "source": [
    "tr_df.head()"
   ]
  },
  {
   "cell_type": "code",
   "execution_count": 17,
   "metadata": {
    "scrolled": true
   },
   "outputs": [],
   "source": [
    "tr_df.to_csv(\"train_set1.csv\",index=0)"
   ]
  },
  {
   "cell_type": "code",
   "execution_count": 18,
   "metadata": {},
   "outputs": [],
   "source": [
    "training_set_1 = pd.read_csv(\"train_set1.csv\")"
   ]
  },
  {
   "cell_type": "code",
   "execution_count": 19,
   "metadata": {},
   "outputs": [],
   "source": [
    "training_set_1.y = training_set_1.y.astype(str)"
   ]
  },
  {
   "cell_type": "code",
   "execution_count": 20,
   "metadata": {},
   "outputs": [
    {
     "data": {
      "text/plain": [
       "1700"
      ]
     },
     "execution_count": 20,
     "metadata": {},
     "output_type": "execute_result"
    }
   ],
   "source": [
    "len(training_set_1)"
   ]
  },
  {
   "cell_type": "code",
   "execution_count": 21,
   "metadata": {},
   "outputs": [
    {
     "data": {
      "text/html": [
       "<div>\n",
       "<style scoped>\n",
       "    .dataframe tbody tr th:only-of-type {\n",
       "        vertical-align: middle;\n",
       "    }\n",
       "\n",
       "    .dataframe tbody tr th {\n",
       "        vertical-align: top;\n",
       "    }\n",
       "\n",
       "    .dataframe thead th {\n",
       "        text-align: right;\n",
       "    }\n",
       "</style>\n",
       "<table border=\"1\" class=\"dataframe\">\n",
       "  <thead>\n",
       "    <tr style=\"text-align: right;\">\n",
       "      <th></th>\n",
       "      <th>image</th>\n",
       "      <th>y</th>\n",
       "    </tr>\n",
       "  </thead>\n",
       "  <tbody>\n",
       "    <tr>\n",
       "      <th>0</th>\n",
       "      <td>s0001_02954_0_1_1_2_0_01.png</td>\n",
       "      <td>0</td>\n",
       "    </tr>\n",
       "    <tr>\n",
       "      <th>1</th>\n",
       "      <td>s0001_00948_0_1_0_2_0_01.png</td>\n",
       "      <td>1</td>\n",
       "    </tr>\n",
       "    <tr>\n",
       "      <th>2</th>\n",
       "      <td>s0001_02965_0_1_1_2_0_01.png</td>\n",
       "      <td>0</td>\n",
       "    </tr>\n",
       "    <tr>\n",
       "      <th>3</th>\n",
       "      <td>s0001_02678_0_1_1_2_0_01.png</td>\n",
       "      <td>0</td>\n",
       "    </tr>\n",
       "    <tr>\n",
       "      <th>4</th>\n",
       "      <td>s0001_01999_0_0_1_0_0_01.png</td>\n",
       "      <td>0</td>\n",
       "    </tr>\n",
       "  </tbody>\n",
       "</table>\n",
       "</div>"
      ],
      "text/plain": [
       "                          image  y\n",
       "0  s0001_02954_0_1_1_2_0_01.png  0\n",
       "1  s0001_00948_0_1_0_2_0_01.png  1\n",
       "2  s0001_02965_0_1_1_2_0_01.png  0\n",
       "3  s0001_02678_0_1_1_2_0_01.png  0\n",
       "4  s0001_01999_0_0_1_0_0_01.png  0"
      ]
     },
     "execution_count": 21,
     "metadata": {},
     "output_type": "execute_result"
    }
   ],
   "source": [
    "vd_df = pd.DataFrame(validation_set,\n",
    "                    columns=['image','y'])\n",
    "vd_df.head()"
   ]
  },
  {
   "cell_type": "code",
   "execution_count": 22,
   "metadata": {},
   "outputs": [],
   "source": [
    "vd_df.to_csv(\"validation_set1.csv\",index=0)"
   ]
  },
  {
   "cell_type": "code",
   "execution_count": 23,
   "metadata": {},
   "outputs": [],
   "source": [
    "validation_set_1 = pd.read_csv(\"validation_set1.csv\")"
   ]
  },
  {
   "cell_type": "code",
   "execution_count": 24,
   "metadata": {},
   "outputs": [],
   "source": [
    "validation_set_1.y = validation_set_1.y.astype(str)"
   ]
  },
  {
   "cell_type": "code",
   "execution_count": 25,
   "metadata": {},
   "outputs": [
    {
     "data": {
      "text/plain": [
       "425"
      ]
     },
     "execution_count": 25,
     "metadata": {},
     "output_type": "execute_result"
    }
   ],
   "source": [
    "len(validation_set)"
   ]
  },
  {
   "cell_type": "markdown",
   "metadata": {},
   "source": [
    "### preprocessing the image data"
   ]
  },
  {
   "cell_type": "code",
   "execution_count": 26,
   "metadata": {},
   "outputs": [],
   "source": [
    "train_dataGen = ImageDataGenerator(rescale = 1./255,\n",
    "                                      shear_range = 0.2,\n",
    "                                      zoom_range = 0.2,\n",
    "                                      horizontal_flip = True)\n",
    "\n",
    "\n"
   ]
  },
  {
   "cell_type": "code",
   "execution_count": 27,
   "metadata": {},
   "outputs": [],
   "source": [
    "validation_datagen = ImageDataGenerator(rescale=1./255)"
   ]
  },
  {
   "cell_type": "code",
   "execution_count": 28,
   "metadata": {},
   "outputs": [
    {
     "name": "stdout",
     "output_type": "stream",
     "text": [
      "Found 1700 validated image filenames belonging to 2 classes.\n",
      "Found 425 validated image filenames belonging to 2 classes.\n"
     ]
    }
   ],
   "source": [
    "train_generator = train_dataGen.flow_from_dataframe(dataframe = training_set_1,\n",
    "                                                    directory=\"train/new/\",\n",
    "                                                    x_col=\"image\", \n",
    "                                                    y_col=\"y\", \n",
    "                                                    class_mode=\"binary\", \n",
    "                                                    target_size=(160,160), batch_size=32)\n",
    "\n",
    "validation_generator = validation_datagen.flow_from_dataframe(dataframe= validation_set_1,\n",
    "                                                              directory=\"train/new/\", \n",
    "                                                              x_col=\"image\", \n",
    "                                                              y_col=\"y\", \n",
    "                                                              class_mode=\"binary\", \n",
    "                                                              target_size=(160,160), batch_size=32)"
   ]
  },
  {
   "cell_type": "code",
   "execution_count": 29,
   "metadata": {},
   "outputs": [],
   "source": [
    "image_size = 160\n",
    "IMG_SHAPE = (image_size, image_size, 3)\n"
   ]
  },
  {
   "cell_type": "markdown",
   "metadata": {},
   "source": [
    "### Create the base model from the pre-trained model MobileNet V2"
   ]
  },
  {
   "cell_type": "code",
   "execution_count": 30,
   "metadata": {},
   "outputs": [],
   "source": [
    "base_model = tf.keras.applications.MobileNetV2(input_shape=IMG_SHAPE,\n",
    "                                              include_top=False,\n",
    "                                              weights='imagenet')"
   ]
  },
  {
   "cell_type": "code",
   "execution_count": 31,
   "metadata": {},
   "outputs": [],
   "source": [
    "base_model.trainable = False"
   ]
  },
  {
   "cell_type": "markdown",
   "metadata": {},
   "source": [
    "### adding three extra layers"
   ]
  },
  {
   "cell_type": "code",
   "execution_count": 32,
   "metadata": {},
   "outputs": [],
   "source": [
    "model = tf.keras.Sequential([\n",
    "                          base_model,\n",
    "                          keras.layers.GlobalAveragePooling2D(),\n",
    "                          keras.layers.Dense(1, activation='sigmoid')])"
   ]
  },
  {
   "cell_type": "markdown",
   "metadata": {},
   "source": [
    "### compiling the new model"
   ]
  },
  {
   "cell_type": "code",
   "execution_count": 33,
   "metadata": {},
   "outputs": [],
   "source": [
    "model.compile(optimizer=tf.keras.optimizers.RMSprop(learning_rate=0.0001),\n",
    "              loss='binary_crossentropy',\n",
    "              metrics=['accuracy'])"
   ]
  },
  {
   "cell_type": "markdown",
   "metadata": {},
   "source": [
    "### training the new model"
   ]
  },
  {
   "cell_type": "raw",
   "metadata": {},
   "source": [
    "epochs = 100\n",
    "steps_per_epoch = 70\n",
    "validation_steps = 70\n",
    "\n",
    "history = model.fit(train_generator,\n",
    "          steps_per_epoch = steps_per_epoch,\n",
    "          epochs=epochs,\n",
    "          workers=4,\n",
    "          validation_data=validation_generator,\n",
    "          validation_steps=validation_steps)"
   ]
  },
  {
   "cell_type": "raw",
   "metadata": {},
   "source": [
    "history.history.keys()"
   ]
  },
  {
   "cell_type": "raw",
   "metadata": {},
   "source": [
    "acc = history.history['accuracy']\n",
    "val_acc = history.history['val_accuracy']\n",
    "\n",
    "loss = history.history['loss']\n",
    "val_loss = history.history['val_loss']\n",
    "\n",
    "plt.figure(figsize=(8, 8))\n",
    "plt.subplot(2, 1, 1)\n",
    "plt.plot(acc, label='Training Accuracy')\n",
    "plt.plot(val_acc, label='Validation Accuracy')\n",
    "plt.legend(loc='lower right')\n",
    "plt.ylabel('Accuracy')\n",
    "plt.ylim([min(plt.ylim()),1])\n",
    "plt.title('Training and Validation Accuracy')\n",
    "\n",
    "plt.subplot(2, 1, 2)\n",
    "plt.plot(loss, label='Training Loss')\n",
    "plt.plot(val_loss, label='Validation Loss')\n",
    "plt.legend(loc='upper right')\n",
    "plt.ylabel('Cross Entropy')\n",
    "plt.ylim([0,max(plt.ylim())])\n",
    "plt.title('Training and Validation Loss')\n",
    "plt.show()"
   ]
  },
  {
   "cell_type": "raw",
   "metadata": {},
   "source": [
    "model.save('my_model_Drowsiness_2.h5')"
   ]
  },
  {
   "cell_type": "code",
   "execution_count": 34,
   "metadata": {},
   "outputs": [],
   "source": [
    "new_model = tf.keras.models.load_model('my_model_Drowsiness_2.h5')"
   ]
  },
  {
   "cell_type": "markdown",
   "metadata": {},
   "source": [
    "### Trying prediction on closed and open images"
   ]
  },
  {
   "cell_type": "code",
   "execution_count": 40,
   "metadata": {},
   "outputs": [
    {
     "data": {
      "text/plain": [
       "(1, 160, 160, 3)"
      ]
     },
     "execution_count": 40,
     "metadata": {},
     "output_type": "execute_result"
    }
   ],
   "source": [
    "img_array = cv2.imread(\"train/open/_214.jpg\",cv2.IMREAD_GRAYSCALE)\n",
    "backtorgb = cv2.cvtColor(img_array, cv2.COLOR_GRAY2RGB)\n",
    "new_array = cv2.resize(backtorgb , (160,160) )\n",
    "\n",
    "X_input = np.array(new_array).reshape(1, 160,160,3)\n",
    "\n",
    "X_input.shape"
   ]
  },
  {
   "cell_type": "code",
   "execution_count": 41,
   "metadata": {},
   "outputs": [
    {
     "data": {
      "text/plain": [
       "<matplotlib.image.AxesImage at 0x232d5c276d0>"
      ]
     },
     "execution_count": 41,
     "metadata": {},
     "output_type": "execute_result"
    },
    {
     "data": {
      "image/png": "[encoded data removed]",
      "text/plain": [
       "<Figure size 432x288 with 1 Axes>"
      ]
     },
     "metadata": {
      "needs_background": "light"
     },
     "output_type": "display_data"
    }
   ],
   "source": [
    "plt.imshow(new_array)"
   ]
  },
  {
   "cell_type": "code",
   "execution_count": 42,
   "metadata": {},
   "outputs": [],
   "source": [
    "X_input =X_input/160.0"
   ]
  },
  {
   "cell_type": "code",
   "execution_count": 43,
   "metadata": {},
   "outputs": [],
   "source": [
    "prediction = new_model.predict(X_input)"
   ]
  },
  {
   "cell_type": "code",
   "execution_count": 44,
   "metadata": {},
   "outputs": [
    {
     "data": {
      "text/plain": [
       "array([[0.00235039]], dtype=float32)"
      ]
     },
     "execution_count": 44,
     "metadata": {},
     "output_type": "execute_result"
    }
   ],
   "source": [
    "prediction"
   ]
  },
  {
   "cell_type": "code",
   "execution_count": 60,
   "metadata": {},
   "outputs": [
    {
     "data": {
      "text/plain": [
       "(1, 160, 160, 3)"
      ]
     },
     "execution_count": 60,
     "metadata": {},
     "output_type": "execute_result"
    }
   ],
   "source": [
    "img_array = cv2.imread(\"train/Closed/_666.jpg\",cv2.IMREAD_GRAYSCALE)\n",
    "backtorgb = cv2.cvtColor(img_array, cv2.COLOR_GRAY2RGB)\n",
    "new_array = cv2.resize(backtorgb , (160,160) )\n",
    "\n",
    "X_input = np.array(new_array).reshape(1, 160,160,3)\n",
    "\n",
    "X_input.shape"
   ]
  },
  {
   "cell_type": "code",
   "execution_count": 61,
   "metadata": {},
   "outputs": [
    {
     "data": {
      "text/plain": [
       "<matplotlib.image.AxesImage at 0x232d5bc2430>"
      ]
     },
     "execution_count": 61,
     "metadata": {},
     "output_type": "execute_result"
    },
    {
     "data": {
      "image/png": "[encoded data removed]",
      "text/plain": [
       "<Figure size 432x288 with 1 Axes>"
      ]
     },
     "metadata": {
      "needs_background": "light"
     },
     "output_type": "display_data"
    }
   ],
   "source": [
    "plt.imshow(new_array)"
   ]
  },
  {
   "cell_type": "code",
   "execution_count": 62,
   "metadata": {},
   "outputs": [],
   "source": [
    "X_input =X_input/160.0"
   ]
  },
  {
   "cell_type": "code",
   "execution_count": 63,
   "metadata": {},
   "outputs": [],
   "source": [
    "prediction = new_model.predict(X_input)"
   ]
  },
  {
   "cell_type": "code",
   "execution_count": 64,
   "metadata": {},
   "outputs": [
    {
     "data": {
      "text/plain": [
       "array([[0.9896492]], dtype=float32)"
      ]
     },
     "execution_count": 64,
     "metadata": {},
     "output_type": "execute_result"
    }
   ],
   "source": [
    "prediction"
   ]
  },
  {
   "cell_type": "markdown",
   "metadata": {},
   "source": [
    "### trying prediction on an image with face"
   ]
  },
  {
   "cell_type": "code",
   "execution_count": 65,
   "metadata": {},
   "outputs": [],
   "source": [
    "img = cv2.imread(\"happy_girl.jpg\")"
   ]
  },
  {
   "cell_type": "code",
   "execution_count": 66,
   "metadata": {},
   "outputs": [],
   "source": [
    "faceCascade = cv2.CascadeClassifier(cv2.data.haarcascades + 'haarcascade_frontalface_default.xml')"
   ]
  },
  {
   "cell_type": "code",
   "execution_count": 67,
   "metadata": {},
   "outputs": [],
   "source": [
    "eye_cascade = cv2.CascadeClassifier(cv2.data.haarcascades + 'haarcascade_eye.xml')"
   ]
  },
  {
   "cell_type": "markdown",
   "metadata": {},
   "source": [
    "### Cropping the eyes"
   ]
  },
  {
   "cell_type": "code",
   "execution_count": 68,
   "metadata": {},
   "outputs": [
    {
     "name": "stdout",
     "output_type": "stream",
     "text": [
      "closed\n",
      "closed\n"
     ]
    }
   ],
   "source": [
    "eye_cascade = cv2.CascadeClassifier(cv2.data.haarcascades +'haarcascade_eye.xml')\n",
    "gray = cv2.cvtColor(img, cv2.COLOR_BGR2GRAY)\n",
    "     #print (faceCascade.empty())\n",
    "eyes = eye_cascade.detectMultiScale(gray,1.1,4)\n",
    "for x,y,w,h in eyes:\n",
    "    roi_gray = gray[y:y+h , x:x+w ]\n",
    "    roi_color = img[y:y+h , x:x+w ]\n",
    "    eyess = eye_cascade.detectMultiScale(roi_gray)\n",
    "    if len(eyess) == 0:\n",
    "        print(\"closed\")\n",
    "    else:\n",
    "        for (ex,ey,ew,eh) in eyess:\n",
    "            eyes_roi = roi_color[ey : ey+eh , ex: ex+ew]\n",
    "    "
   ]
  },
  {
   "cell_type": "code",
   "execution_count": 69,
   "metadata": {},
   "outputs": [
    {
     "data": {
      "text/plain": [
       "(56, 56, 3)"
      ]
     },
     "execution_count": 69,
     "metadata": {},
     "output_type": "execute_result"
    }
   ],
   "source": [
    "eyes_roi.shape"
   ]
  },
  {
   "cell_type": "code",
   "execution_count": 70,
   "metadata": {},
   "outputs": [],
   "source": [
    "final_image = cv2.resize(eyes_roi, (160,160))\n",
    "final_image = np.expand_dims(final_image,axis=0)\n",
    "final_image = final_image/255.0"
   ]
  },
  {
   "cell_type": "code",
   "execution_count": 71,
   "metadata": {},
   "outputs": [
    {
     "data": {
      "text/plain": [
       "array([[[200, 202, 202],\n",
       "        [200, 202, 202],\n",
       "        [200, 202, 202],\n",
       "        ...,\n",
       "        [208, 208, 208],\n",
       "        [208, 208, 208],\n",
       "        [208, 208, 208]],\n",
       "\n",
       "       [[200, 202, 202],\n",
       "        [200, 202, 202],\n",
       "        [200, 202, 202],\n",
       "        ...,\n",
       "        [208, 208, 208],\n",
       "        [208, 208, 208],\n",
       "        [208, 208, 208]],\n",
       "\n",
       "       [[200, 202, 202],\n",
       "        [200, 202, 202],\n",
       "        [200, 202, 202],\n",
       "        ...,\n",
       "        [208, 208, 208],\n",
       "        [208, 208, 208],\n",
       "        [208, 208, 208]],\n",
       "\n",
       "       ...,\n",
       "\n",
       "       [[178, 180, 180],\n",
       "        [178, 180, 180],\n",
       "        [178, 180, 180],\n",
       "        ...,\n",
       "        [189, 191, 192],\n",
       "        [188, 190, 191],\n",
       "        [188, 190, 191]],\n",
       "\n",
       "       [[178, 180, 180],\n",
       "        [178, 180, 180],\n",
       "        [178, 180, 180],\n",
       "        ...,\n",
       "        [189, 191, 192],\n",
       "        [188, 190, 191],\n",
       "        [188, 190, 191]],\n",
       "\n",
       "       [[178, 180, 180],\n",
       "        [178, 180, 180],\n",
       "        [178, 180, 180],\n",
       "        ...,\n",
       "        [188, 190, 191],\n",
       "        [188, 190, 191],\n",
       "        [188, 190, 191]]], dtype=uint8)"
      ]
     },
     "execution_count": 71,
     "metadata": {},
     "output_type": "execute_result"
    }
   ],
   "source": [
    "img"
   ]
  },
  {
   "cell_type": "code",
   "execution_count": 72,
   "metadata": {},
   "outputs": [
    {
     "data": {
      "text/plain": [
       "(1, 160, 160, 3)"
      ]
     },
     "execution_count": 72,
     "metadata": {},
     "output_type": "execute_result"
    }
   ],
   "source": [
    "final_image.shape"
   ]
  },
  {
   "cell_type": "code",
   "execution_count": 73,
   "metadata": {},
   "outputs": [
    {
     "data": {
      "text/plain": [
       "array([[0.9991889]], dtype=float32)"
      ]
     },
     "execution_count": 73,
     "metadata": {},
     "output_type": "execute_result"
    }
   ],
   "source": [
    "new_model.predict(final_image)"
   ]
  },
  {
   "cell_type": "markdown",
   "metadata": {},
   "source": [
    "# Real time implementation"
   ]
  },
  {
   "cell_type": "code",
   "execution_count": null,
   "metadata": {},
   "outputs": [
    {
     "name": "stdout",
     "output_type": "stream",
     "text": [
      "eyes not detected\n",
      "False\n",
      "eyes not detected\n",
      "eyes not detected\n",
      "False\n",
      "eyes not detected\n",
      "False\n",
      "eyes not detected\n",
      "False\n",
      "False\n",
      "False\n"
     ]
    }
   ],
   "source": [
    "import winsound\n",
    "frequency = 2500\n",
    "duration = 30000\n",
    "import numpy as np\n",
    "import cv2\n",
    "path = \"haarcascade_frontalface_default.xml\"\n",
    "faceCasade = cv2.CascadeClassifier(cv2.data.haarcascades + 'haarcascade_frontalface_default.xml')\n",
    "\n",
    "cap = cv2.VideoCapture(1)\n",
    "# check if the webcam is opened correctly\n",
    "if not cap.isOpened():\n",
    "    cap = cv2.VideoCapture(0)\n",
    "if not cap.isOpened():\n",
    "    raise IOError(\"cannot open webcam\")\n",
    "counter = 0\n",
    "while True:\n",
    "    ret,frame = cap.read()\n",
    "    eye_cascade = cv2.CascadeClassifier(cv2.data.haarcascades + 'haarcascade_eye.xml')\n",
    "    gray = cv2.cvtColor(frame, cv2.COLOR_BGR2GRAY )\n",
    "    #print faceCascade.empty())\n",
    "    eyes = eye_cascade.detectMultiScale(gray,1.1,4)\n",
    "    for x,y,w,h in eyes:\n",
    "        roi_gray = gray[y:y+h, x:x+w]\n",
    "        roi_color = frame[y:y+h, x:x+w]\n",
    "        cv2.rectangle(frame,(x, y), (x+w, y+h), (0,255,0), 2)\n",
    "        eyess = eye_cascade.detectMultiScale(roi_gray)\n",
    "        if len(eyess) == 0:\n",
    "            print(\"eyes not detected\")\n",
    "        \n",
    "        else:\n",
    "            for(ex,ey,ew,eh) in eyess:\n",
    "                eyes_roi = roi_color[ey: ey+eh, ex: ex+ew]\n",
    "                \n",
    "    gray = cv2.cvtColor(frame, cv2.COLOR_BGR2GRAY)\n",
    "    print(faceCascade.empty())\n",
    "    faces = faceCascade.detectMultiScale(gray,1.1,4)\n",
    "    \n",
    "    #draw rectangle around faces\n",
    "    for(x, y, w, h) in faces:\n",
    "        cv2.rectangle(frame, (x,y), (x+w, y+h), (0,255,0), 2)\n",
    "        \n",
    "    font = cv2.FONT_HERSHEY_SIMPLEX  \n",
    "    \n",
    "    #use putText() method for\n",
    "    #inserting text on video\n",
    "    \n",
    "    final_image = cv2.resize(eyes_roi, (160,160))\n",
    "    final_image = np.expand_dims(final_image,axis=0)\n",
    "    final_image = final_image/255.0\n",
    "    \n",
    "    predictions = new_model.predict(final_image)\n",
    "    if (predictions<0.2):\n",
    "        status = \"Open Eyes\"\n",
    "        cv2.putText(frame,\n",
    "               status,\n",
    "               (150,150),\n",
    "               font, 3,\n",
    "               (0, 255, 0),\n",
    "               2,\n",
    "               cv2.LINE_4)\n",
    "        x1,y1,w1,h1 = 0,0,175,75\n",
    "        # draw black background rectangle\n",
    "        \n",
    "        cv2.rectangle(frame, (x1, x1), (x1 + w1, y1 + h1), (0,0,0), -1)\n",
    "        #add text\n",
    "        \n",
    "        cv2.putText(frame, 'Active', (x1 + int(w1/10), y1 + int(h1/2)), cv2.FONT_HERSHEY_SIMPLEX, 0.7, (0,255,0), 2)\n",
    "    else:\n",
    "        counter = counter + 1\n",
    "        status = \"Closed Eyes\"\n",
    "        cv2.putText(frame,\n",
    "               status,\n",
    "               (150,150),\n",
    "               font, 3,\n",
    "               (0, 0, 255),\n",
    "               2,\n",
    "               cv2.LINE_4)\n",
    "        cv2.rectangle(frame, (x,y), (x+w, y+h), (0, 0, 255), 2)\n",
    "        if counter>5:\n",
    "            \n",
    "            x1,y1,w1,h1 = 0,0,175,75\n",
    "            # draw black background rectangle\n",
    "            cv2.rectangle(frame, (x1, x1), (x1 + w1, y1 + h1), (0,0,0), -1)\n",
    "            #add text\n",
    "            cv2.putText(frame, 'Sleep Alert !!', (x1 + int(w1/10), y1 + int(h1/2)), cv2.FONT_HERSHEY_SIMPLEX, 0.7, (0,0,225), 2)\n",
    "            winsound.Beep(frequency, duration)\n",
    "            counter = 0\n",
    "    \n",
    "    \n",
    "    \n",
    "    \n",
    "    cv2.imshow('Drowsiness Detection', frame)\n",
    "    \n",
    "\n",
    "    if cv2.waitKey(2) & 0xFF == ord('q'):\n",
    "        break\n",
    "\n",
    "cap.release()\n",
    "cv2.destroyAllWindows()"
   ]
  }
 ],
 "metadata": {
  "kernelspec": {
   "display_name": "Python 3",
   "language": "python",
   "name": "python3"
  },
  "language_info": {
   "codemirror_mode": {
    "name": "ipython",
    "version": 3
   },
   "file_extension": ".py",
   "mimetype": "text/x-python",
   "name": "python",
   "nbconvert_exporter": "python",
   "pygments_lexer": "ipython3",
   "version": "3.8.3"
  }
 },
 "nbformat": 4,
 "nbformat_minor": 4
}
